{
 "cells": [
  {
   "attachments": {},
   "cell_type": "markdown",
   "metadata": {},
   "source": [
    "### We will create some word counters for text files."
   ]
  },
  {
   "cell_type": "code",
   "execution_count": 40,
   "metadata": {},
   "outputs": [],
   "source": [
    "def custom_dict_print(d,n=20):\n",
    "    \"\"\"\n",
    "    Visualisation tool.\n",
    "    Function is printing common python dictionary with convention:\n",
    "        ...\n",
    "        key2 -> value2\n",
    "        key3 -> value3\n",
    "        ...\n",
    "    where keys are SORTED by values.\n",
    "\n",
    "    :param dict d: any dictionary with sortable values, best to be ints\n",
    "    :param int n: how many keys should function print. If None - all keys are printed.\n",
    "    \"\"\"\n",
    "    if n is None:\n",
    "        n = len(d.keys())\n",
    "    sorted_keys = sorted(d, key=d.get,reverse=True)\n",
    "    m = max([len(key) for key in sorted_keys])\n",
    "    j = 0\n",
    "    for key in sorted_keys:\n",
    "        print(key.ljust(m), '->', d[key])\n",
    "        j+=1\n",
    "        if j >= n:\n",
    "            break\n",
    "\n",
    "def get_words_frequency(text):\n",
    "    \"\"\"\n",
    "    Creates dictionary of word frequency in text.\n",
    "    Omits whitespaces, punctuation.\n",
    "    Case insensitive.\n",
    "\n",
    "    :param str text: text to analyse, might not work with some obscure ascii signs\n",
    "    \"\"\"\n",
    "    inter = \"\\\\/ \\\"'_+-—!@#%^&*.,;:[]()<>{}|\\t\"\n",
    "    result = {}\n",
    "    text = text.replace(\"\\n\",\" \").replace(\"\\r\",\" \")\n",
    "    words = text.split(\" \")\n",
    "    words = [word.strip(inter).lower() for word in words]\n",
    "    \n",
    "    for word in words:\n",
    "        if len(word)!=0:\n",
    "            if word in result.keys():\n",
    "                result[word]+=1\n",
    "            else:\n",
    "                result[word]=1\n",
    "    return result"
   ]
  },
  {
   "attachments": {},
   "cell_type": "markdown",
   "metadata": {},
   "source": [
    "#### We will test those functions on some Krzysztof Krawczyk's song."
   ]
  },
  {
   "cell_type": "code",
   "execution_count": 41,
   "metadata": {},
   "outputs": [],
   "source": [
    "\n",
    "test_song_text = \"\"\"\n",
    "Na zewnątrz mgła, tylko ziąb i deszcz\n",
    "A dla mnie świat w ciepłym świetle świec\n",
    "Powietrze ma elektryczny smak\n",
    "Chciałbym tak trwać nawet tysiąc lat\n",
    "Bo jesteś Ty Znów przy mnie budzisz się\n",
    "Bo jesteś Ty I wciąż czuję, że...\n",
    "Bo jesteś Ty Cóż więcej mógłbym chcieć?\n",
    "Bo jesteś tu I proszę zostań już\n",
    "Ja chciałbym tak zawsze biec pod wiatr\n",
    "Nie liczyć dni, ciągle zmieniać twarz\n",
    "Sprawić by czas wciąż omijał mnie\n",
    "Wszystko to już dziś nie liczy się\n",
    "Bo jesteś Ty Zaczynasz ze mną dzień\n",
    "Bo jesteś wciąż Gdy zaczyna się noc\n",
    "Już wszystko mam Cóż więcej mógłbym chcieć?\n",
    "Bo jesteś tu I zawsze tu bądź\n",
    "Bo jesteś Ty Znów przy mnie budzisz się\n",
    "Bo jesteś Ty I wciąż czuję, że...\n",
    "Bo jesteś Ty Cóż więcej mógłbym chcieć?\n",
    "Bo jesteś tu I proszę zostań już Bo jesteś Ty...\n",
    "\"\"\"\n"
   ]
  },
  {
   "cell_type": "code",
   "execution_count": 42,
   "metadata": {},
   "outputs": [
    {
     "name": "stdout",
     "output_type": "stream",
     "text": [
      "bo          -> 12\n",
      "jesteś      -> 12\n",
      "ty          -> 8\n",
      "i           -> 6\n",
      "mnie        -> 4\n",
      "się         -> 4\n",
      "wciąż       -> 4\n",
      "tu          -> 4\n",
      "już         -> 4\n",
      "cóż         -> 3\n",
      "więcej      -> 3\n",
      "mógłbym     -> 3\n",
      "chcieć?     -> 3\n",
      "chciałbym   -> 2\n",
      "tak         -> 2\n",
      "znów        -> 2\n",
      "przy        -> 2\n",
      "budzisz     -> 2\n",
      "czuję       -> 2\n",
      "że          -> 2\n"
     ]
    }
   ],
   "source": [
    "song_dict = get_words_frequency(test_song_text)\n",
    "custom_dict_print(song_dict)"
   ]
  },
  {
   "attachments": {},
   "cell_type": "markdown",
   "metadata": {},
   "source": [
    "## Zipf Law\n",
    "\n",
    "https://en.wikipedia.org/wiki/Zipf%27s_law"
   ]
  },
  {
   "cell_type": "code",
   "execution_count": 43,
   "metadata": {},
   "outputs": [],
   "source": [
    "def get_magnitude(max_in,max_out,divisor=2):\n",
    "    \"\"\"\n",
    "    Function calculates scale, to divide max_in, so that\n",
    "    max_out is bigger.\n",
    "    Used if visualisation would excede print line limit.\n",
    "\n",
    "    :param int max_in:\n",
    "    :param int max_out:\n",
    "    :param int divisor:\n",
    "    \"\"\"\n",
    "    result = 1\n",
    "    while max_in > max_out:\n",
    "        max_in = max_in // divisor\n",
    "        result *= divisor\n",
    "    return result\n",
    "\n",
    "def zipf_ilustration(d, n = 10, screen_width = 120):\n",
    "    \"\"\"\n",
    "    Function prints zipf law visualisation, for given text.\n",
    "\n",
    "    :param dict or text d: word frequency dictionary of some text, or text itself\n",
    "    :param int n: number of positions to print\n",
    "    :param int screen_width: \n",
    "    \"\"\"\n",
    "    if type(d) == str:\n",
    "        d = get_words_frequency(d)\n",
    "        \n",
    "    if type(d) == dict:\n",
    "\n",
    "        sorted_keys = sorted(d, key=d.get,reverse=True)\n",
    "        sorted_keys = sorted_keys[:n]\n",
    "        max_word_len = max([len(key) for key in sorted_keys[:n]])\n",
    "        max_val = max(d.values())\n",
    "        max_bar_len = screen_width - max_word_len\n",
    "        div = get_magnitude(max_val,max_bar_len)\n",
    "        \n",
    "        for key in sorted_keys:\n",
    "            print(key.ljust(max_word_len,' '), '*' * (d[key] // div))"
   ]
  },
  {
   "attachments": {},
   "cell_type": "markdown",
   "metadata": {},
   "source": [
    "## Visualisation of Zipf Law on text of a song and Ulysses."
   ]
  },
  {
   "cell_type": "code",
   "execution_count": 44,
   "metadata": {},
   "outputs": [
    {
     "name": "stdout",
     "output_type": "stream",
     "text": [
      "bo     ************\n",
      "jesteś ************\n",
      "ty     ********\n",
      "i      ******\n",
      "mnie   ****\n",
      "się    ****\n",
      "wciąż  ****\n",
      "tu     ****\n",
      "już    ****\n",
      "cóż    ***\n"
     ]
    }
   ],
   "source": [
    "zipf_ilustration(test_song_text)"
   ]
  },
  {
   "cell_type": "code",
   "execution_count": 46,
   "metadata": {},
   "outputs": [
    {
     "name": "stdout",
     "output_type": "stream",
     "text": [
      "the  ********************************************************************************************************************\n",
      "of   ***************************************************************\n",
      "and  ********************************************************\n",
      "a    **************************************************\n",
      "to   **************************************\n",
      "in   **************************************\n",
      "he   *******************************\n",
      "his  **************************\n",
      "i    ********************\n",
      "that *******************\n",
      "with *******************\n",
      "it   *****************\n",
      "was  ****************\n",
      "on   ****************\n",
      "for  ***************\n"
     ]
    }
   ],
   "source": [
    "with open('data/ulysses.txt','r') as file:\n",
    "    ulysses = file.read()\n",
    "    zipf_ilustration(ulysses, 15)"
   ]
  }
 ],
 "metadata": {
  "kernelspec": {
   "display_name": "Python 3",
   "language": "python",
   "name": "python3"
  },
  "language_info": {
   "codemirror_mode": {
    "name": "ipython",
    "version": 3
   },
   "file_extension": ".py",
   "mimetype": "text/x-python",
   "name": "python",
   "nbconvert_exporter": "python",
   "pygments_lexer": "ipython3",
   "version": "3.8.10"
  }
 },
 "nbformat": 4,
 "nbformat_minor": 4
}
