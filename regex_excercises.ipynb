{
 "cells": [
  {
   "attachments": {},
   "cell_type": "markdown",
   "metadata": {},
   "source": [
    "## Regex\n",
    "### Below cells contain some exemplary usage of `re` - regex package of python"
   ]
  },
  {
   "cell_type": "code",
   "execution_count": 17,
   "metadata": {},
   "outputs": [],
   "source": [
    "import re"
   ]
  },
  {
   "attachments": {},
   "cell_type": "markdown",
   "metadata": {},
   "source": [
    "### Finding telephone numbers in text"
   ]
  },
  {
   "cell_type": "code",
   "execution_count": 18,
   "metadata": {},
   "outputs": [
    {
     "name": "stdout",
     "output_type": "stream",
     "text": [
      "<re.Match object; span=(0, 11), match='123-456-789'>\n",
      "<re.Match object; span=(0, 9), match='123456789'>\n",
      "<re.Match object; span=(0, 11), match='123 456 789'>\n",
      "['333-333-333', '444.444.444', '231-323 232']\n"
     ]
    }
   ],
   "source": [
    "p4 = re.compile(r\"\\d{3}.?\\d{3}.?\\d{3}\")\n",
    "print(p4.search(\"123-456-789\"))\n",
    "print(p4.search(\"123456789\"))\n",
    "print(p4.search(\"123 456 789\"))\n",
    "mail = '''Hej! \n",
    "Sporo było dziś telefonów o korki. \n",
    "Rano dzwonili z 333-333-333, potem z 444.444.444.222 i w końcu z 231-323 232... Odzwoń jak możesz.\n",
    "'''\n",
    "print(p4.findall(mail))"
   ]
  },
  {
   "attachments": {},
   "cell_type": "markdown",
   "metadata": {},
   "source": [
    "### Create shoping list from sms message"
   ]
  },
  {
   "cell_type": "code",
   "execution_count": 19,
   "metadata": {},
   "outputs": [
    {
     "data": {
      "text/plain": [
       "['12 jabłek',\n",
       " '11 gruszek',\n",
       " '10 śliwek',\n",
       " '9 dyń',\n",
       " '8 ząbków',\n",
       " '7 główek',\n",
       " '6 marchwi',\n",
       " '5 piertuszek',\n",
       " '4 gęsi',\n",
       " '3 kury',\n",
       " '2 gołębie',\n",
       " '1 kuropatwę']"
      ]
     },
     "execution_count": 19,
     "metadata": {},
     "output_type": "execute_result"
    }
   ],
   "source": [
    "mail = \"\"\"Będziemy jutro na kolację. Zrobimy coś wege i do tego sałatkę owocową.\n",
    "Jak możesz to kup 12 jabłek, 11 gruszek i przynajmniej 10 śliwek.\n",
    "Do zupy kup też 9 dyń, 8 ząbków czosnku albo jak nie będzie dyni to 7 główek kapusty.\n",
    "Do tego wszystkiego przyda się 6 marchwi, 5 piertuszek. Ma być też Kokosz, więc\n",
    "dla niego potrzebujemy przynajmniej 4 gęsi albo 3 kury i 2 gołębie lub 1 kuropatwę.\n",
    "Darz bór!\n",
    "Mirmił.\"\"\"\n",
    "pattern = re.compile(r\"\\d+ \\w+\")\n",
    "pattern.findall(mail)"
   ]
  },
  {
   "attachments": {},
   "cell_type": "markdown",
   "metadata": {},
   "source": [
    "### Retriving names from webpage data"
   ]
  },
  {
   "cell_type": "code",
   "execution_count": 20,
   "metadata": {},
   "outputs": [
    {
     "name": "stdout",
     "output_type": "stream",
     "text": [
      "meskie ['Adam', 'Adolf', 'Adrian', 'Albert', 'Aleksander', 'Aleksy', 'Alfred', 'Amadeusz', 'Andrzej', 'Antoni', 'Arkadiusz', 'Arnold', 'Artur', 'Bartłomiej', 'Bartosz', 'Benedykt', 'Beniamin', 'Bernard', 'Błażej', 'Bogdan', 'Bogumił', 'Bogusław', 'Bolesław', 'Borys', 'Bronisław', 'Cezary', 'Cyprian', 'Cyryl', 'Czesław', 'Damian', 'Daniel', 'Dariusz', 'Dawid', 'Dionizy', 'Dominik', 'Donald', 'Edward', 'Emanuel', 'Emil', 'Eryk', 'Eugeniusz', 'Fabian', 'Feliks', 'Ferdynand', 'Filip', 'Franciszek', 'Fryderyk', 'Gabriel', 'Gerard', 'Grzegorz', 'Gustaw', 'Henryk', 'Herbert', 'Hilary', 'Hubert', 'Ignacy', 'Igor', 'Ireneusz', 'Jacek', 'Jakub', 'Jan', 'Janusz', 'Jarosław', 'Jerzy', 'Joachim', 'Józef', 'Julian', 'Juliusz', 'Kacper', 'Kajetan', 'Kamil', 'Karol', 'Kazimierz', 'Klaudiusz', 'Konrad', 'Krystian', 'Krzysztof', 'Lech', 'Leon', 'Leszek', 'Lucjan', 'Ludwik', 'Łukasz', 'Maciej', 'Maksymilian', 'Marceli', 'Marcin', 'Marek', 'Marian', 'Mariusz', 'Mateusz', 'Michał', 'Mieczysław', 'Mikołaj', 'Miłosz', 'Mirosław', 'Nikodem', 'Norbert', 'Olaf', 'Olgierd', 'Oskar', 'Patryk', 'Paweł', 'Piotr', 'Przemysław', 'Radosław', 'Rafał', 'Remigiusz', 'Robert', 'Roman', 'Rudolf', 'Ryszard', 'Sebastian', 'Seweryn', 'Sławomir', 'Stanisław', 'Stefan', 'Sylwester', 'Szymon', 'Tadeusz', 'Teodor', 'Tomasz', 'Wacław', 'Waldemar', 'Wiesław', 'Wiktor', 'Witold', 'Władysław', 'Włodzimierz', 'Wojciech', 'Zbigniew', 'Zdzisław', 'Zenon', 'Zygmunt']\n",
      "zenskie ['Ada', 'Adela', 'Adelajda', 'Adrianna', 'Agata', 'Agnieszka', 'Aldona', 'Aleksandra', 'Alicja', 'Alina', 'Amanda', 'Amelia', 'Anastazja', 'Andżelika', 'Aneta', 'Anita', 'Anna', 'Antonina', 'Barbara', 'Beata', 'Berenika', 'Bernadeta', 'Blanka', 'Bogusława', 'Bożena', 'Cecylia', 'Celina', 'Czesława', 'Dagmara', 'Danuta', 'Daria', 'Diana', 'Dominika', 'Dorota', 'Edyta', 'Eliza', 'Elwira', 'Elżbieta', 'Emilia', 'Eugenia', 'Ewa', 'Ewelina', 'Felicja', 'Franciszka', 'Gabriela', 'Grażyna', 'Halina', 'Hanna', 'Helena', 'Iga', 'Ilona', 'Irena', 'Irmina', 'Iwona', 'Izabela', 'Jadwiga', 'Janina', 'Joanna', 'Jolanta', 'Jowita', 'Judyta', 'Julia', 'Julita', 'Justyna', 'Kamila', 'Karina', 'Karolina', 'Katarzyna', 'Kazimiera', 'Kinga', 'Klaudia', 'Kleopatra', 'Kornelia', 'Krystyna', 'Laura', 'Lena', 'Leokadia', 'Lidia', 'Liliana', 'Lucyna', 'Ludmiła', 'Luiza', 'Łucja', 'Magdalena', 'Maja', 'Malwina', 'Małgorzata', 'Marcelina', 'Maria', 'Marianna', 'Mariola', 'Marlena', 'Marta', 'Martyna', 'Marzanna', 'Marzena', 'Matylda', 'Melania', 'Michalina', 'Milena', 'Mirosława', 'Monika', 'Nadia', 'Natalia', 'Natasza', 'Nikola', 'Nina', 'Olga', 'Oliwia', 'Otylia', 'Pamela', 'Patrycja', 'Paula', 'Paulina', 'Regina', 'Renata', 'Roksana', 'Róża', 'Rozalia', 'Sabina', 'Sandra', 'Sara', 'Sonia', 'Stanisława', 'Stefania', 'Stella', 'Sylwia', 'Tamara', 'Tatiana', 'Teresa', 'Urszula', 'Weronika', 'Wiesława', 'Wiktoria', 'Wioletta', 'Żaneta', 'Zofia', 'Zuzanna', 'Zyta']\n"
     ]
    }
   ],
   "source": [
    "with open('data/names_data.dat','r') as file:\n",
    "    text = file.read()\n",
    "text = text.split(\"Spis imion męskich\")\n",
    "name = re.compile(r'title=\"(\\w*)\"')\n",
    "print('meskie',name.findall(text[1]))\n",
    "print('zenskie',name.findall(text[0]))"
   ]
  },
  {
   "attachments": {},
   "cell_type": "markdown",
   "metadata": {},
   "source": [
    "### Retriving domain name from web adresses"
   ]
  },
  {
   "cell_type": "code",
   "execution_count": 21,
   "metadata": {},
   "outputs": [
    {
     "name": "stdout",
     "output_type": "stream",
     "text": [
      "(http://www.askoxford.com/concise_oed/train?view=uk)\n",
      "['askoxford.com']\n",
      "(http://www.hydrogencarsnow.com/blog2/index.php/hydrogen-vehicles/i-hear-the-hydrogen-train-a-comin-its-rolling-round-the-bend/)\n",
      "['hydrogencarsnow.com']\n",
      "(http://www.bnsf.com/media/news/articles/2008/01/2008-01-09a.html)\n",
      "['bnsf.com']\n",
      "(http://web.archive.org/web/20080620033027/http://www.mrvc.indianrail.gov.in/overview.htm)\n",
      "['archive.org', 'mrvc.indianrail.gov.in']\n",
      "(http://www.mrvc.indianrail.gov.in/overview.htm)\n",
      "['mrvc.indianrail.gov.in']\n"
     ]
    }
   ],
   "source": [
    "with open('data/web_pages.dat','r') as file:\n",
    "    text = file.read()\n",
    "url = re.compile(r'\\(http[s]?[^)]*\\)')\n",
    "domain = re.compile(r'//[^.]*\\.([^/]*)/')\n",
    "#pattern = re.compile(r'(?<=http[s]?[^)]*) ')\n",
    "urls = url.findall(text)\n",
    "for u in urls:\n",
    "    print(u)\n",
    "    print(domain.findall(u))"
   ]
  },
  {
   "attachments": {},
   "cell_type": "markdown",
   "metadata": {},
   "source": [
    "### Open Ulysses and count words"
   ]
  },
  {
   "cell_type": "code",
   "execution_count": 22,
   "metadata": {},
   "outputs": [
    {
     "name": "stdout",
     "output_type": "stream",
     "text": [
      "2231\n"
     ]
    }
   ],
   "source": [
    "with open('data/ulysses.txt','r') as file:\n",
    "    text = file.read()\n",
    "pattern = re.compile(r'\\?+')\n",
    "words = pattern.findall(text)\n",
    "print(len(words))"
   ]
  },
  {
   "attachments": {},
   "cell_type": "markdown",
   "metadata": {},
   "source": [
    "### Sum all numbers from Ulysses"
   ]
  },
  {
   "cell_type": "code",
   "execution_count": 23,
   "metadata": {},
   "outputs": [
    {
     "name": "stdout",
     "output_type": "stream",
     "text": [
      "258350\n"
     ]
    }
   ],
   "source": [
    "with open('data/ulysses.txt','r') as file:\n",
    "    text = file.read()\n",
    "pattern = re.compile(r'(\\d+)')\n",
    "nums = pattern.findall(text)\n",
    "nums = [int(num) for num in nums]\n",
    "s = sum(nums)\n",
    "print(s)\n"
   ]
  }
 ],
 "metadata": {
  "kernelspec": {
   "display_name": "Python 3",
   "language": "python",
   "name": "python3"
  },
  "language_info": {
   "codemirror_mode": {
    "name": "ipython",
    "version": 3
   },
   "file_extension": ".py",
   "mimetype": "text/x-python",
   "name": "python",
   "nbconvert_exporter": "python",
   "pygments_lexer": "ipython3",
   "version": "3.8.10"
  }
 },
 "nbformat": 4,
 "nbformat_minor": 4
}
